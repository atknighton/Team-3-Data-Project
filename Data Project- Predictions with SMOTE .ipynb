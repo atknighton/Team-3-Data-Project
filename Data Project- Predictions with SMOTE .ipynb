{
 "cells": [
  {
   "cell_type": "code",
   "execution_count": 1,
   "metadata": {},
   "outputs": [],
   "source": [
    "# Import pandas and plotting packages\n",
    "import matplotlib.pyplot as plt\n",
    "import numpy as np\n",
    "import pandas as pd\n",
    "import seaborn as sns\n",
    "import statsmodels.formula.api as smf\n",
    "import sklearn.metrics as metrics\n",
    "\n",
    "from sklearn.model_selection import train_test_split, GridSearchCV,KFold, cross_val_score\n",
    "from sklearn.metrics import r2_score,f1_score, confusion_matrix, classification_report, accuracy_score, roc_auc_score, mean_squared_error, r2_score\n",
    "\n",
    "from sklearn.preprocessing import LabelEncoder\n",
    "\n",
    "# recursive feature elimination (RFE)\n",
    "from sklearn.feature_selection import RFE, RFECV\n",
    "\n",
    "from sklearn.linear_model import Ridge, RidgeCV, Lasso, LassoCV\n"
   ]
  },
  {
   "cell_type": "code",
   "execution_count": 2,
   "metadata": {},
   "outputs": [
    {
     "data": {
      "text/html": [
       "<div>\n",
       "<style scoped>\n",
       "    .dataframe tbody tr th:only-of-type {\n",
       "        vertical-align: middle;\n",
       "    }\n",
       "\n",
       "    .dataframe tbody tr th {\n",
       "        vertical-align: top;\n",
       "    }\n",
       "\n",
       "    .dataframe thead th {\n",
       "        text-align: right;\n",
       "    }\n",
       "</style>\n",
       "<table border=\"1\" class=\"dataframe\">\n",
       "  <thead>\n",
       "    <tr style=\"text-align: right;\">\n",
       "      <th></th>\n",
       "      <th>Income</th>\n",
       "      <th>Age</th>\n",
       "      <th>Experience</th>\n",
       "      <th>Risk Flag</th>\n",
       "      <th>Married/Single</th>\n",
       "      <th>Home Ownership</th>\n",
       "      <th>Car Ownership</th>\n",
       "    </tr>\n",
       "  </thead>\n",
       "  <tbody>\n",
       "    <tr>\n",
       "      <th>0</th>\n",
       "      <td>1303834</td>\n",
       "      <td>23</td>\n",
       "      <td>3</td>\n",
       "      <td>0</td>\n",
       "      <td>0</td>\n",
       "      <td>0</td>\n",
       "      <td>0</td>\n",
       "    </tr>\n",
       "    <tr>\n",
       "      <th>1</th>\n",
       "      <td>7574516</td>\n",
       "      <td>40</td>\n",
       "      <td>10</td>\n",
       "      <td>0</td>\n",
       "      <td>0</td>\n",
       "      <td>0</td>\n",
       "      <td>0</td>\n",
       "    </tr>\n",
       "    <tr>\n",
       "      <th>2</th>\n",
       "      <td>3991815</td>\n",
       "      <td>66</td>\n",
       "      <td>4</td>\n",
       "      <td>0</td>\n",
       "      <td>1</td>\n",
       "      <td>0</td>\n",
       "      <td>0</td>\n",
       "    </tr>\n",
       "    <tr>\n",
       "      <th>3</th>\n",
       "      <td>6256451</td>\n",
       "      <td>41</td>\n",
       "      <td>2</td>\n",
       "      <td>1</td>\n",
       "      <td>0</td>\n",
       "      <td>0</td>\n",
       "      <td>1</td>\n",
       "    </tr>\n",
       "    <tr>\n",
       "      <th>4</th>\n",
       "      <td>5768871</td>\n",
       "      <td>47</td>\n",
       "      <td>11</td>\n",
       "      <td>1</td>\n",
       "      <td>0</td>\n",
       "      <td>0</td>\n",
       "      <td>0</td>\n",
       "    </tr>\n",
       "  </tbody>\n",
       "</table>\n",
       "</div>"
      ],
      "text/plain": [
       "    Income  Age  Experience  Risk Flag  Married/Single  Home Ownership  \\\n",
       "0  1303834   23           3          0               0               0   \n",
       "1  7574516   40          10          0               0               0   \n",
       "2  3991815   66           4          0               1               0   \n",
       "3  6256451   41           2          1               0               0   \n",
       "4  5768871   47          11          1               0               0   \n",
       "\n",
       "   Car Ownership  \n",
       "0              0  \n",
       "1              0  \n",
       "2              0  \n",
       "3              1  \n",
       "4              0  "
      ]
     },
     "execution_count": 2,
     "metadata": {},
     "output_type": "execute_result"
    }
   ],
   "source": [
    "# Read in the data and print out the .head()\n",
    "NewLoanDF = pd.read_csv(\"NewLoanData.csv\")\n",
    "NewLoanDF.head()"
   ]
  },
  {
   "cell_type": "markdown",
   "metadata": {},
   "source": [
    "## Split data into test and training"
   ]
  },
  {
   "cell_type": "code",
   "execution_count": 3,
   "metadata": {},
   "outputs": [],
   "source": [
    "#define X and y\n",
    "X = NewLoanDF.drop('Risk Flag',axis=1)\n",
    "y = NewLoanDF['Risk Flag']"
   ]
  },
  {
   "cell_type": "code",
   "execution_count": 4,
   "metadata": {},
   "outputs": [],
   "source": [
    "#Split train and test\n",
    "X_train, X_test, y_train, y_test = train_test_split(X, y, test_size=0.2,stratify= y, random_state=42)"
   ]
  },
  {
   "cell_type": "code",
   "execution_count": 5,
   "metadata": {},
   "outputs": [
    {
     "name": "stdout",
     "output_type": "stream",
     "text": [
      "X_train shape: (201600, 6)\n",
      "X_test shape: (50400, 6)\n"
     ]
    }
   ],
   "source": [
    "print(\"X_train shape: {}\".format(X_train.shape))\n",
    "print(\"X_test shape: {}\".format(X_test.shape))"
   ]
  },
  {
   "cell_type": "code",
   "execution_count": 6,
   "metadata": {},
   "outputs": [
    {
     "name": "stdout",
     "output_type": "stream",
     "text": [
      "Number of observations in the target variable before oversampling of the minority class: [176803  24797]\n",
      "\n",
      "Number of observations in the target variable after oversampling of the minority class: [176803 176803]\n"
     ]
    }
   ],
   "source": [
    "from imblearn.over_sampling import SMOTE\n",
    "\n",
    "print ('Number of observations in the target variable before oversampling of the minority class:', np.bincount (y_train) )\n",
    "\n",
    "smt = SMOTE ()\n",
    "X_train, y_train = smt.fit_resample (X_train, y_train)\n",
    "\n",
    "print ('\\nNumber of observations in the target variable after oversampling of the minority class:', np.bincount (y_train) )"
   ]
  },
  {
   "cell_type": "code",
   "execution_count": 7,
   "metadata": {},
   "outputs": [
    {
     "data": {
      "text/plain": [
       "Text(0.5, 1.0, 'Dataset after oversampling')"
      ]
     },
     "execution_count": 7,
     "metadata": {},
     "output_type": "execute_result"
    },
    {
     "data": {
      "image/png": "[encoded data removed]",
      "text/plain": [
       "<Figure size 432x288 with 1 Axes>"
      ]
     },
     "metadata": {
      "needs_background": "light"
     },
     "output_type": "display_data"
    }
   ],
   "source": [
    "ax=sns.countplot(x = y_train, palette = 'muted')\n",
    "ax.set_title('Dataset after oversampling')"
   ]
  },
  {
   "cell_type": "code",
   "execution_count": 8,
   "metadata": {},
   "outputs": [],
   "source": [
    "# Scale the data\n",
    "from sklearn.preprocessing import StandardScaler\n",
    "\n",
    "scaler = StandardScaler().fit(X_train)\n",
    "X_train = scaler.transform(X_train)\n",
    "X_test = scaler.transform(X_test)"
   ]
  },
  {
   "cell_type": "code",
   "execution_count": 9,
   "metadata": {},
   "outputs": [
    {
     "data": {
      "text/plain": [
       "0         0\n",
       "1         0\n",
       "2         0\n",
       "3         0\n",
       "4         0\n",
       "         ..\n",
       "353601    1\n",
       "353602    1\n",
       "353603    1\n",
       "353604    1\n",
       "353605    1\n",
       "Name: Risk Flag, Length: 353606, dtype: int64"
      ]
     },
     "execution_count": 9,
     "metadata": {},
     "output_type": "execute_result"
    }
   ],
   "source": [
    "y_train"
   ]
  },
  {
   "cell_type": "raw",
   "metadata": {},
   "source": []
  },
  {
   "cell_type": "code",
   "execution_count": null,
   "metadata": {},
   "outputs": [],
   "source": []
  },
  {
   "cell_type": "markdown",
   "metadata": {},
   "source": [
    "## Predict using Decision Tree Classifier"
   ]
  },
  {
   "cell_type": "code",
   "execution_count": 10,
   "metadata": {},
   "outputs": [],
   "source": [
    "from sklearn.tree import DecisionTreeClassifier\n",
    "\n",
    "dct = DecisionTreeClassifier()\n",
    "dct.fit(X_train,y_train)\n",
    "dct_predict = dct.predict(X_test)"
   ]
  },
  {
   "cell_type": "code",
   "execution_count": 11,
   "metadata": {},
   "outputs": [
    {
     "name": "stdout",
     "output_type": "stream",
     "text": [
      "Accuracy Score: 0.86\n",
      "AUC Score: 0.86\n",
      "F1 Score: 0.60\n"
     ]
    }
   ],
   "source": [
    "print(f'Accuracy Score: {accuracy_score (y_test, dct_predict):.2f}')\n",
    "print(f'AUC Score: {roc_auc_score (y_test, dct_predict):.2f}')\n",
    "print(f'F1 Score: {f1_score(y_test,dct_predict):.2f}')"
   ]
  },
  {
   "cell_type": "code",
   "execution_count": 12,
   "metadata": {},
   "outputs": [],
   "source": [
    "#DecisionTree gives us a 0.88 accuracy and a .75 auc score"
   ]
  },
  {
   "cell_type": "code",
   "execution_count": 13,
   "metadata": {},
   "outputs": [
    {
     "data": {
      "text/plain": [
       "<AxesSubplot:>"
      ]
     },
     "execution_count": 13,
     "metadata": {},
     "output_type": "execute_result"
    },
    {
     "data": {
      "image/png": "[encoded data removed]",
      "text/plain": [
       "<Figure size 432x288 with 2 Axes>"
      ]
     },
     "metadata": {
      "needs_background": "light"
     },
     "output_type": "display_data"
    }
   ],
   "source": [
    "dct_cfm = confusion_matrix(y_test,dct_predict)\n",
    "\n",
    "group_counts = ['{0:0.0f}'.format(value) for value in\n",
    "                dct_cfm.flatten()]\n",
    "group_percentages = ['{0:.2%}'.format(value) for value in\n",
    "                     dct_cfm.flatten()/np.sum(dct_cfm)]\n",
    "labels = [f'{v2}\\n{v3}' for  v2, v3 in\n",
    "          zip(group_counts,group_percentages)]\n",
    "labels = np.asarray(labels).reshape(2,2)\n",
    "sns.heatmap(dct_cfm, annot=labels, fmt='', cmap='mako')"
   ]
  },
  {
   "cell_type": "code",
   "execution_count": 14,
   "metadata": {},
   "outputs": [
    {
     "name": "stdout",
     "output_type": "stream",
     "text": [
      "              precision    recall  f1-score   support\n",
      "\n",
      "          No       0.98      0.86      0.91     44201\n",
      "         Yes       0.46      0.86      0.60      6199\n",
      "\n",
      "    accuracy                           0.86     50400\n",
      "   macro avg       0.72      0.86      0.76     50400\n",
      "weighted avg       0.91      0.86      0.88     50400\n",
      "\n"
     ]
    }
   ],
   "source": [
    "print(classification_report(y_test, dct.predict(X_test), \n",
    "                           target_names=[\"No\", \"Yes\"]))"
   ]
  },
  {
   "cell_type": "code",
   "execution_count": 15,
   "metadata": {},
   "outputs": [
    {
     "name": "stdout",
     "output_type": "stream",
     "text": [
      "[ True False False False False False]\n",
      "[1 2 3 4 6 5]\n"
     ]
    }
   ],
   "source": [
    "# RFE \n",
    "dct = DecisionTreeClassifier()\n",
    "rfe = RFE(dct, n_features_to_select=1)\n",
    "\n",
    "X_rfe = rfe.fit_transform(X_train, y_train)\n",
    "dct.fit(X_rfe, y_train)\n",
    "print(rfe.support_)\n",
    "print(rfe.ranking_)"
   ]
  },
  {
   "cell_type": "code",
   "execution_count": 16,
   "metadata": {},
   "outputs": [
    {
     "name": "stdout",
     "output_type": "stream",
     "text": [
      "Input Variables Sorted by Their Rank:\n",
      "[(1, 'Income'), (2, 'Age'), (3, 'Experience'), (4, 'Married/Single'), (5, 'Car Ownership'), (6, 'Home Ownership')]\n"
     ]
    }
   ],
   "source": [
    "# I should be able to print out variables and rank order\n",
    "print(\"Input Variables Sorted by Their Rank:\")\n",
    "\n",
    "# Create an empty dictionary\n",
    "d = {}\n",
    "for i in range(len(rfe.ranking_)):\n",
    "    d[rfe.ranking_[i]] = X.columns[i]\n",
    "\n",
    "#print(d)\n",
    "print(sorted(d.items()))"
   ]
  },
  {
   "cell_type": "code",
   "execution_count": 17,
   "metadata": {},
   "outputs": [
    {
     "data": {
      "text/html": [
       "<div>\n",
       "<style scoped>\n",
       "    .dataframe tbody tr th:only-of-type {\n",
       "        vertical-align: middle;\n",
       "    }\n",
       "\n",
       "    .dataframe tbody tr th {\n",
       "        vertical-align: top;\n",
       "    }\n",
       "\n",
       "    .dataframe thead th {\n",
       "        text-align: right;\n",
       "    }\n",
       "</style>\n",
       "<table border=\"1\" class=\"dataframe\">\n",
       "  <thead>\n",
       "    <tr style=\"text-align: right;\">\n",
       "      <th></th>\n",
       "      <th>Income</th>\n",
       "      <th>Age</th>\n",
       "      <th>Experience</th>\n",
       "      <th>Married/Single</th>\n",
       "      <th>Home Ownership</th>\n",
       "      <th>Car Ownership</th>\n",
       "    </tr>\n",
       "  </thead>\n",
       "  <tbody>\n",
       "    <tr>\n",
       "      <th>count</th>\n",
       "      <td>2.520000e+05</td>\n",
       "      <td>252000.000000</td>\n",
       "      <td>252000.000000</td>\n",
       "      <td>252000.000000</td>\n",
       "      <td>252000.000000</td>\n",
       "      <td>252000.000000</td>\n",
       "    </tr>\n",
       "    <tr>\n",
       "      <th>mean</th>\n",
       "      <td>4.997117e+06</td>\n",
       "      <td>49.954071</td>\n",
       "      <td>10.084437</td>\n",
       "      <td>0.102095</td>\n",
       "      <td>0.051262</td>\n",
       "      <td>0.301587</td>\n",
       "    </tr>\n",
       "    <tr>\n",
       "      <th>std</th>\n",
       "      <td>2.878311e+06</td>\n",
       "      <td>17.063855</td>\n",
       "      <td>6.002590</td>\n",
       "      <td>0.302774</td>\n",
       "      <td>0.220532</td>\n",
       "      <td>0.458948</td>\n",
       "    </tr>\n",
       "    <tr>\n",
       "      <th>min</th>\n",
       "      <td>1.031000e+04</td>\n",
       "      <td>21.000000</td>\n",
       "      <td>0.000000</td>\n",
       "      <td>0.000000</td>\n",
       "      <td>0.000000</td>\n",
       "      <td>0.000000</td>\n",
       "    </tr>\n",
       "    <tr>\n",
       "      <th>25%</th>\n",
       "      <td>2.503015e+06</td>\n",
       "      <td>35.000000</td>\n",
       "      <td>5.000000</td>\n",
       "      <td>0.000000</td>\n",
       "      <td>0.000000</td>\n",
       "      <td>0.000000</td>\n",
       "    </tr>\n",
       "    <tr>\n",
       "      <th>50%</th>\n",
       "      <td>5.000694e+06</td>\n",
       "      <td>50.000000</td>\n",
       "      <td>10.000000</td>\n",
       "      <td>0.000000</td>\n",
       "      <td>0.000000</td>\n",
       "      <td>0.000000</td>\n",
       "    </tr>\n",
       "    <tr>\n",
       "      <th>75%</th>\n",
       "      <td>7.477502e+06</td>\n",
       "      <td>65.000000</td>\n",
       "      <td>15.000000</td>\n",
       "      <td>0.000000</td>\n",
       "      <td>0.000000</td>\n",
       "      <td>1.000000</td>\n",
       "    </tr>\n",
       "    <tr>\n",
       "      <th>max</th>\n",
       "      <td>9.999938e+06</td>\n",
       "      <td>79.000000</td>\n",
       "      <td>20.000000</td>\n",
       "      <td>1.000000</td>\n",
       "      <td>1.000000</td>\n",
       "      <td>1.000000</td>\n",
       "    </tr>\n",
       "  </tbody>\n",
       "</table>\n",
       "</div>"
      ],
      "text/plain": [
       "             Income            Age     Experience  Married/Single  \\\n",
       "count  2.520000e+05  252000.000000  252000.000000   252000.000000   \n",
       "mean   4.997117e+06      49.954071      10.084437        0.102095   \n",
       "std    2.878311e+06      17.063855       6.002590        0.302774   \n",
       "min    1.031000e+04      21.000000       0.000000        0.000000   \n",
       "25%    2.503015e+06      35.000000       5.000000        0.000000   \n",
       "50%    5.000694e+06      50.000000      10.000000        0.000000   \n",
       "75%    7.477502e+06      65.000000      15.000000        0.000000   \n",
       "max    9.999938e+06      79.000000      20.000000        1.000000   \n",
       "\n",
       "       Home Ownership  Car Ownership  \n",
       "count   252000.000000  252000.000000  \n",
       "mean         0.051262       0.301587  \n",
       "std          0.220532       0.458948  \n",
       "min          0.000000       0.000000  \n",
       "25%          0.000000       0.000000  \n",
       "50%          0.000000       0.000000  \n",
       "75%          0.000000       1.000000  \n",
       "max          1.000000       1.000000  "
      ]
     },
     "execution_count": 17,
     "metadata": {},
     "output_type": "execute_result"
    }
   ],
   "source": [
    "X.describe()"
   ]
  },
  {
   "cell_type": "code",
   "execution_count": null,
   "metadata": {},
   "outputs": [],
   "source": []
  },
  {
   "cell_type": "markdown",
   "metadata": {},
   "source": [
    "## Predict using Log Regression"
   ]
  },
  {
   "cell_type": "code",
   "execution_count": 18,
   "metadata": {},
   "outputs": [],
   "source": [
    "from sklearn.linear_model import LogisticRegression\n",
    "\n",
    "lr = LogisticRegression()\n",
    "lr.fit(X_train,y_train)\n",
    "lr_predict = lr.predict(X_test)"
   ]
  },
  {
   "cell_type": "code",
   "execution_count": 19,
   "metadata": {},
   "outputs": [
    {
     "name": "stdout",
     "output_type": "stream",
     "text": [
      "Accuracy Score: 0.50\n",
      "AUC Score: 0.53\n",
      "F1 Score: 0.22\n"
     ]
    }
   ],
   "source": [
    "print(f'Accuracy Score: {accuracy_score (y_test, lr_predict):.2f}')\n",
    "print(f'AUC Score: {roc_auc_score (y_test, lr_predict):.2f}')\n",
    "print(f'F1 Score: {f1_score(y_test,lr_predict):.2f}')"
   ]
  },
  {
   "cell_type": "code",
   "execution_count": 20,
   "metadata": {},
   "outputs": [],
   "source": [
    "#LogisticRegression give us 0.88 accuracy and 0.5 auc score"
   ]
  },
  {
   "cell_type": "code",
   "execution_count": 21,
   "metadata": {},
   "outputs": [
    {
     "data": {
      "text/plain": [
       "<AxesSubplot:>"
      ]
     },
     "execution_count": 21,
     "metadata": {},
     "output_type": "execute_result"
    },
    {
     "data": {
      "image/png": "[encoded data removed]",
      "text/plain": [
       "<Figure size 432x288 with 2 Axes>"
      ]
     },
     "metadata": {
      "needs_background": "light"
     },
     "output_type": "display_data"
    }
   ],
   "source": [
    "lr_cfm = confusion_matrix(y_test,lr_predict)\n",
    "\n",
    "group_counts = ['{0:0.0f}'.format(value) for value in\n",
    "                lr_cfm.flatten()]\n",
    "group_percentages = ['{0:.2%}'.format(value) for value in\n",
    "                     lr_cfm.flatten()/np.sum(lr_cfm)]\n",
    "labels = [f'{v2}\\n{v3}' for  v2, v3 in\n",
    "          zip(group_counts,group_percentages)]\n",
    "labels = np.asarray(labels).reshape(2,2)\n",
    "sns.heatmap(lr_cfm, annot=labels, fmt='', cmap='mako')"
   ]
  },
  {
   "cell_type": "code",
   "execution_count": 22,
   "metadata": {},
   "outputs": [
    {
     "name": "stdout",
     "output_type": "stream",
     "text": [
      "              precision    recall  f1-score   support\n",
      "\n",
      "          No       0.89      0.49      0.63     44201\n",
      "         Yes       0.14      0.57      0.22      6199\n",
      "\n",
      "    accuracy                           0.50     50400\n",
      "   macro avg       0.51      0.53      0.43     50400\n",
      "weighted avg       0.80      0.50      0.58     50400\n",
      "\n"
     ]
    }
   ],
   "source": [
    "print(classification_report(y_test, lr.predict(X_test), \n",
    "                           target_names=[\"No\", \"Yes\"]))"
   ]
  },
  {
   "cell_type": "markdown",
   "metadata": {},
   "source": [
    "## Predict using KNN"
   ]
  },
  {
   "cell_type": "code",
   "execution_count": 23,
   "metadata": {},
   "outputs": [],
   "source": [
    "from sklearn.neighbors import KNeighborsClassifier\n",
    "\n",
    "knn = KNeighborsClassifier()\n",
    "knn.fit(X_train, y_train)\n",
    "knn_predict= knn.predict(X_test)"
   ]
  },
  {
   "cell_type": "code",
   "execution_count": 24,
   "metadata": {},
   "outputs": [
    {
     "name": "stdout",
     "output_type": "stream",
     "text": [
      "Accuracy Score: 0.86\n",
      "AUC Score: 0.74\n",
      "F1 Score: 0.51\n"
     ]
    }
   ],
   "source": [
    "print(f'Accuracy Score: {accuracy_score (y_test, knn_predict):.2f}')\n",
    "print(f'AUC Score: {roc_auc_score (y_test, knn_predict):.2f}')\n",
    "print(f'F1 Score: {f1_score(y_test,knn_predict):.2f}')"
   ]
  },
  {
   "cell_type": "code",
   "execution_count": 25,
   "metadata": {},
   "outputs": [],
   "source": [
    "#KNN give us 0.89 accuracy and 0.71 auc score and f1 0.51"
   ]
  },
  {
   "cell_type": "code",
   "execution_count": 26,
   "metadata": {},
   "outputs": [
    {
     "data": {
      "text/plain": [
       "<AxesSubplot:>"
      ]
     },
     "execution_count": 26,
     "metadata": {},
     "output_type": "execute_result"
    },
    {
     "data": {
      "image/png": "[encoded data removed]",
      "text/plain": [
       "<Figure size 432x288 with 2 Axes>"
      ]
     },
     "metadata": {
      "needs_background": "light"
     },
     "output_type": "display_data"
    }
   ],
   "source": [
    "knn_cfm = confusion_matrix(y_test,knn_predict)\n",
    "\n",
    "group_counts = ['{0:0.0f}'.format(value) for value in\n",
    "                knn_cfm.flatten()]\n",
    "group_percentages = ['{0:.2%}'.format(value) for value in\n",
    "                     knn_cfm.flatten()/np.sum(knn_cfm)]\n",
    "labels = [f'{v2}\\n{v3}' for  v2, v3 in\n",
    "          zip(group_counts,group_percentages)]\n",
    "labels = np.asarray(labels).reshape(2,2)\n",
    "sns.heatmap(knn_cfm, annot=labels, fmt='', cmap='mako')"
   ]
  },
  {
   "cell_type": "code",
   "execution_count": 27,
   "metadata": {},
   "outputs": [
    {
     "name": "stdout",
     "output_type": "stream",
     "text": [
      "              precision    recall  f1-score   support\n",
      "\n",
      "          No       0.94      0.89      0.92     44201\n",
      "         Yes       0.44      0.60      0.51      6199\n",
      "\n",
      "    accuracy                           0.86     50400\n",
      "   macro avg       0.69      0.74      0.71     50400\n",
      "weighted avg       0.88      0.86      0.87     50400\n",
      "\n"
     ]
    }
   ],
   "source": [
    "print(classification_report(y_test, knn.predict(X_test), \n",
    "                           target_names=[\"No\", \"Yes\"]))"
   ]
  },
  {
   "cell_type": "markdown",
   "metadata": {},
   "source": [
    "## Predict using "
   ]
  },
  {
   "cell_type": "code",
   "execution_count": 28,
   "metadata": {},
   "outputs": [],
   "source": [
    "from sklearn.ensemble import RandomForestClassifier\n",
    "\n",
    "rfc = RandomForestClassifier()\n",
    "rfc.fit(X_train,y_train)\n",
    "rfc_predict = rfc.predict(X_test)"
   ]
  },
  {
   "cell_type": "code",
   "execution_count": 29,
   "metadata": {},
   "outputs": [
    {
     "name": "stdout",
     "output_type": "stream",
     "text": [
      "Accuracy Score: 0.86\n",
      "AUC Score: 0.86\n",
      "F1 Score: 0.60\n"
     ]
    }
   ],
   "source": [
    "print(f'Accuracy Score: {accuracy_score (y_test, rfc_predict):.2f}')\n",
    "print(f'AUC Score: {roc_auc_score (y_test, rfc_predict):.2f}')\n",
    "print(f'F1 Score: {f1_score(y_test,rfc_predict):.2f}')"
   ]
  },
  {
   "cell_type": "markdown",
   "metadata": {},
   "source": [
    "## Trying some FOLDS\n"
   ]
  },
  {
   "cell_type": "code",
   "execution_count": 30,
   "metadata": {},
   "outputs": [
    {
     "data": {
      "text/plain": [
       "['accuracy',\n",
       " 'adjusted_mutual_info_score',\n",
       " 'adjusted_rand_score',\n",
       " 'average_precision',\n",
       " 'balanced_accuracy',\n",
       " 'completeness_score',\n",
       " 'explained_variance',\n",
       " 'f1',\n",
       " 'f1_macro',\n",
       " 'f1_micro',\n",
       " 'f1_samples',\n",
       " 'f1_weighted',\n",
       " 'fowlkes_mallows_score',\n",
       " 'homogeneity_score',\n",
       " 'jaccard',\n",
       " 'jaccard_macro',\n",
       " 'jaccard_micro',\n",
       " 'jaccard_samples',\n",
       " 'jaccard_weighted',\n",
       " 'max_error',\n",
       " 'mutual_info_score',\n",
       " 'neg_brier_score',\n",
       " 'neg_log_loss',\n",
       " 'neg_mean_absolute_error',\n",
       " 'neg_mean_absolute_percentage_error',\n",
       " 'neg_mean_gamma_deviance',\n",
       " 'neg_mean_poisson_deviance',\n",
       " 'neg_mean_squared_error',\n",
       " 'neg_mean_squared_log_error',\n",
       " 'neg_median_absolute_error',\n",
       " 'neg_root_mean_squared_error',\n",
       " 'normalized_mutual_info_score',\n",
       " 'precision',\n",
       " 'precision_macro',\n",
       " 'precision_micro',\n",
       " 'precision_samples',\n",
       " 'precision_weighted',\n",
       " 'r2',\n",
       " 'rand_score',\n",
       " 'recall',\n",
       " 'recall_macro',\n",
       " 'recall_micro',\n",
       " 'recall_samples',\n",
       " 'recall_weighted',\n",
       " 'roc_auc',\n",
       " 'roc_auc_ovo',\n",
       " 'roc_auc_ovo_weighted',\n",
       " 'roc_auc_ovr',\n",
       " 'roc_auc_ovr_weighted',\n",
       " 'top_k_accuracy',\n",
       " 'v_measure_score']"
      ]
     },
     "execution_count": 30,
     "metadata": {},
     "output_type": "execute_result"
    }
   ],
   "source": [
    "import sklearn\n",
    "sorted(sklearn.metrics.SCORERS.keys())"
   ]
  },
  {
   "cell_type": "code",
   "execution_count": 31,
   "metadata": {},
   "outputs": [
    {
     "name": "stdout",
     "output_type": "stream",
     "text": [
      "[0.50513364 0.50125179 0.50485306 0.50235594 0.49995095]\n"
     ]
    }
   ],
   "source": [
    "folds = 5\n",
    "reg = LogisticRegression()\n",
    "cvAUC = cross_val_score(reg, X, y, cv=folds, scoring=\"roc_auc\")\n",
    "cvAcc = cross_val_score(reg, X, y, cv=folds, scoring=\"accuracy\")\n",
    "\n",
    "print(cvAUC)"
   ]
  },
  {
   "cell_type": "code",
   "execution_count": 32,
   "metadata": {},
   "outputs": [
    {
     "name": "stdout",
     "output_type": "stream",
     "text": [
      "[0.87700397 0.87700397 0.87700397 0.87700397 0.87698413]\n"
     ]
    }
   ],
   "source": [
    "print(cvAcc)"
   ]
  },
  {
   "cell_type": "code",
   "execution_count": null,
   "metadata": {},
   "outputs": [],
   "source": []
  },
  {
   "cell_type": "code",
   "execution_count": null,
   "metadata": {},
   "outputs": [],
   "source": []
  }
 ],
 "metadata": {
  "kernelspec": {
   "display_name": "Python 3",
   "language": "python",
   "name": "python3"
  },
  "language_info": {
   "codemirror_mode": {
    "name": "ipython",
    "version": 3
   },
   "file_extension": ".py",
   "mimetype": "text/x-python",
   "name": "python",
   "nbconvert_exporter": "python",
   "pygments_lexer": "ipython3",
   "version": "3.8.5"
  }
 },
 "nbformat": 4,
 "nbformat_minor": 4
}
